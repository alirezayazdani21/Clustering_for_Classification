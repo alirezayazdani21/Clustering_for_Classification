{
 "cells": [
  {
   "cell_type": "code",
   "execution_count": 1,
   "metadata": {},
   "outputs": [],
   "source": [
    "import pandas as pd\n",
    "import numpy as np\n",
    "import seaborn as sn\n",
    "import matplotlib.pyplot as plt\n",
    "from sklearn.datasets import load_breast_cancer"
   ]
  },
  {
   "cell_type": "code",
   "execution_count": 2,
   "metadata": {},
   "outputs": [],
   "source": [
    "from sklearn.datasets import make_classification"
   ]
  },
  {
   "cell_type": "code",
   "execution_count": 3,
   "metadata": {},
   "outputs": [],
   "source": [
    "#data =load_breast_cancer()\n",
    "w=.97\n",
    "X, y = make_classification(n_samples=5000,n_classes=2,n_features=15, random_state=123, n_clusters_per_class=1, weights=[w])"
   ]
  },
  {
   "cell_type": "code",
   "execution_count": 4,
   "metadata": {},
   "outputs": [
    {
     "data": {
      "text/plain": [
       "(array([0, 1]), array([4830,  170], dtype=int64))"
      ]
     },
     "execution_count": 4,
     "metadata": {},
     "output_type": "execute_result"
    }
   ],
   "source": [
    "np.unique(y, return_counts=True)"
   ]
  },
  {
   "cell_type": "code",
   "execution_count": 5,
   "metadata": {},
   "outputs": [
    {
     "data": {
      "image/png": "[encoded data removed]",
      "text/plain": [
       "<Figure size 432x288 with 1 Axes>"
      ]
     },
     "metadata": {
      "needs_background": "light"
     },
     "output_type": "display_data"
    }
   ],
   "source": [
    "sn.histplot(y);"
   ]
  },
  {
   "cell_type": "code",
   "execution_count": 6,
   "metadata": {},
   "outputs": [
    {
     "data": {
      "text/plain": [
       "array([[ 3.68758968e-01,  8.31979389e-01,  2.95794368e+00, ...,\n",
       "         3.99572878e-01, -9.43349828e-02,  2.14006546e+00],\n",
       "       [ 3.58835414e-01,  2.21275933e-01,  1.12599176e+00, ...,\n",
       "         2.11614988e-01,  2.05647433e-01, -9.65388689e-01],\n",
       "       [ 7.24963747e-01,  1.69835687e+00,  3.34058726e+00, ...,\n",
       "         5.35300786e-01, -1.38568787e+00,  1.51536814e-03],\n",
       "       ...,\n",
       "       [ 5.88351609e-01,  7.38235794e-01,  5.47340685e-01, ...,\n",
       "         2.15621655e-01, -4.62750822e-01, -4.33731457e-01],\n",
       "       [ 1.17864171e+00, -5.68827571e-01,  7.72607717e-01, ...,\n",
       "         3.99201941e-01, -1.03765169e+00,  1.48834077e-01],\n",
       "       [ 7.90840199e-01,  3.94496865e-01, -1.06854332e+00, ...,\n",
       "         1.07376435e-01,  2.05138298e-01, -9.20201677e-01]])"
      ]
     },
     "execution_count": 6,
     "metadata": {},
     "output_type": "execute_result"
    }
   ],
   "source": [
    "X"
   ]
  },
  {
   "cell_type": "code",
   "execution_count": 7,
   "metadata": {},
   "outputs": [],
   "source": [
    "from sklearn.ensemble import RandomForestClassifier"
   ]
  },
  {
   "cell_type": "code",
   "execution_count": 8,
   "metadata": {},
   "outputs": [],
   "source": [
    "clf = RandomForestClassifier(max_depth=2, random_state=42, class_weight='balanced').fit(X,y)"
   ]
  },
  {
   "cell_type": "code",
   "execution_count": 9,
   "metadata": {},
   "outputs": [],
   "source": [
    "from sklearn.metrics import confusion_matrix, ConfusionMatrixDisplay\n",
    "from sklearn.metrics import plot_confusion_matrix\n",
    "from sklearn.metrics import accuracy_score\n",
    "from sklearn.metrics import roc_auc_score"
   ]
  },
  {
   "cell_type": "code",
   "execution_count": 10,
   "metadata": {},
   "outputs": [
    {
     "data": {
      "text/html": [
       "<div>\n",
       "<style scoped>\n",
       "    .dataframe tbody tr th:only-of-type {\n",
       "        vertical-align: middle;\n",
       "    }\n",
       "\n",
       "    .dataframe tbody tr th {\n",
       "        vertical-align: top;\n",
       "    }\n",
       "\n",
       "    .dataframe thead th {\n",
       "        text-align: right;\n",
       "    }\n",
       "</style>\n",
       "<table border=\"1\" class=\"dataframe\">\n",
       "  <thead>\n",
       "    <tr style=\"text-align: right;\">\n",
       "      <th></th>\n",
       "      <th>0</th>\n",
       "    </tr>\n",
       "  </thead>\n",
       "  <tbody>\n",
       "    <tr>\n",
       "      <th>0</th>\n",
       "      <td>0.770446</td>\n",
       "    </tr>\n",
       "    <tr>\n",
       "      <th>1</th>\n",
       "      <td>0.730601</td>\n",
       "    </tr>\n",
       "    <tr>\n",
       "      <th>2</th>\n",
       "      <td>0.784039</td>\n",
       "    </tr>\n",
       "    <tr>\n",
       "      <th>3</th>\n",
       "      <td>0.569196</td>\n",
       "    </tr>\n",
       "    <tr>\n",
       "      <th>4</th>\n",
       "      <td>0.742082</td>\n",
       "    </tr>\n",
       "    <tr>\n",
       "      <th>...</th>\n",
       "      <td>...</td>\n",
       "    </tr>\n",
       "    <tr>\n",
       "      <th>4995</th>\n",
       "      <td>0.644111</td>\n",
       "    </tr>\n",
       "    <tr>\n",
       "      <th>4996</th>\n",
       "      <td>0.793898</td>\n",
       "    </tr>\n",
       "    <tr>\n",
       "      <th>4997</th>\n",
       "      <td>0.755176</td>\n",
       "    </tr>\n",
       "    <tr>\n",
       "      <th>4998</th>\n",
       "      <td>0.759023</td>\n",
       "    </tr>\n",
       "    <tr>\n",
       "      <th>4999</th>\n",
       "      <td>0.491420</td>\n",
       "    </tr>\n",
       "  </tbody>\n",
       "</table>\n",
       "<p>5000 rows × 1 columns</p>\n",
       "</div>"
      ],
      "text/plain": [
       "             0\n",
       "0     0.770446\n",
       "1     0.730601\n",
       "2     0.784039\n",
       "3     0.569196\n",
       "4     0.742082\n",
       "...        ...\n",
       "4995  0.644111\n",
       "4996  0.793898\n",
       "4997  0.755176\n",
       "4998  0.759023\n",
       "4999  0.491420\n",
       "\n",
       "[5000 rows x 1 columns]"
      ]
     },
     "execution_count": 10,
     "metadata": {},
     "output_type": "execute_result"
    }
   ],
   "source": [
    "clf_preds=pd.DataFrame(clf.predict(X))\n",
    "clf_pred_probs=pd.DataFrame(clf.predict_proba(X)[:,0])\n",
    "#clf_preds\n",
    "clf_pred_probs"
   ]
  },
  {
   "cell_type": "code",
   "execution_count": 11,
   "metadata": {},
   "outputs": [
    {
     "data": {
      "text/plain": [
       "array([[4535,  295],\n",
       "       [  30,  140]], dtype=int64)"
      ]
     },
     "execution_count": 11,
     "metadata": {},
     "output_type": "execute_result"
    }
   ],
   "source": [
    "confusion_matrix(y,clf_preds)"
   ]
  },
  {
   "cell_type": "code",
   "execution_count": 12,
   "metadata": {},
   "outputs": [
    {
     "data": {
      "text/plain": [
       "0.935"
      ]
     },
     "execution_count": 12,
     "metadata": {},
     "output_type": "execute_result"
    }
   ],
   "source": [
    "accuracy_score(y,clf_preds)"
   ]
  },
  {
   "cell_type": "code",
   "execution_count": 13,
   "metadata": {},
   "outputs": [
    {
     "data": {
      "text/plain": [
       "0.8812264036049202"
      ]
     },
     "execution_count": 13,
     "metadata": {},
     "output_type": "execute_result"
    }
   ],
   "source": [
    "roc_auc_score(y,clf_preds)"
   ]
  },
  {
   "cell_type": "code",
   "execution_count": 14,
   "metadata": {},
   "outputs": [
    {
     "data": {
      "image/png": "[encoded data removed]",
      "text/plain": [
       "<Figure size 432x288 with 2 Axes>"
      ]
     },
     "metadata": {
      "needs_background": "light"
     },
     "output_type": "display_data"
    }
   ],
   "source": [
    "plot_confusion_matrix(clf, X, y) \n",
    "plt.title(\"Confusion Matrix for Classification\")\n",
    "plt.show()  "
   ]
  },
  {
   "cell_type": "code",
   "execution_count": 15,
   "metadata": {},
   "outputs": [],
   "source": [
    "#######################################################"
   ]
  },
  {
   "cell_type": "code",
   "execution_count": 16,
   "metadata": {},
   "outputs": [
    {
     "data": {
      "text/html": [
       "<div>\n",
       "<style scoped>\n",
       "    .dataframe tbody tr th:only-of-type {\n",
       "        vertical-align: middle;\n",
       "    }\n",
       "\n",
       "    .dataframe tbody tr th {\n",
       "        vertical-align: top;\n",
       "    }\n",
       "\n",
       "    .dataframe thead th {\n",
       "        text-align: right;\n",
       "    }\n",
       "</style>\n",
       "<table border=\"1\" class=\"dataframe\">\n",
       "  <thead>\n",
       "    <tr style=\"text-align: right;\">\n",
       "      <th></th>\n",
       "      <th>0</th>\n",
       "      <th>1</th>\n",
       "      <th>2</th>\n",
       "      <th>3</th>\n",
       "      <th>4</th>\n",
       "      <th>5</th>\n",
       "      <th>6</th>\n",
       "      <th>7</th>\n",
       "      <th>8</th>\n",
       "      <th>9</th>\n",
       "      <th>10</th>\n",
       "      <th>11</th>\n",
       "      <th>12</th>\n",
       "      <th>13</th>\n",
       "      <th>14</th>\n",
       "    </tr>\n",
       "  </thead>\n",
       "  <tbody>\n",
       "    <tr>\n",
       "      <th>0</th>\n",
       "      <td>0.368759</td>\n",
       "      <td>0.831979</td>\n",
       "      <td>2.957944</td>\n",
       "      <td>0.065827</td>\n",
       "      <td>-1.199389</td>\n",
       "      <td>-1.003421</td>\n",
       "      <td>-0.536490</td>\n",
       "      <td>-0.372502</td>\n",
       "      <td>0.271788</td>\n",
       "      <td>0.975441</td>\n",
       "      <td>-1.028055</td>\n",
       "      <td>0.282077</td>\n",
       "      <td>0.399573</td>\n",
       "      <td>-0.094335</td>\n",
       "      <td>2.140065</td>\n",
       "    </tr>\n",
       "    <tr>\n",
       "      <th>1</th>\n",
       "      <td>0.358835</td>\n",
       "      <td>0.221276</td>\n",
       "      <td>1.125992</td>\n",
       "      <td>1.336419</td>\n",
       "      <td>-1.259625</td>\n",
       "      <td>0.961583</td>\n",
       "      <td>-0.235549</td>\n",
       "      <td>0.608741</td>\n",
       "      <td>0.599941</td>\n",
       "      <td>0.409732</td>\n",
       "      <td>0.454621</td>\n",
       "      <td>0.208703</td>\n",
       "      <td>0.211615</td>\n",
       "      <td>0.205647</td>\n",
       "      <td>-0.965389</td>\n",
       "    </tr>\n",
       "    <tr>\n",
       "      <th>2</th>\n",
       "      <td>0.724964</td>\n",
       "      <td>1.698357</td>\n",
       "      <td>3.340587</td>\n",
       "      <td>0.678704</td>\n",
       "      <td>2.159543</td>\n",
       "      <td>0.172991</td>\n",
       "      <td>0.365218</td>\n",
       "      <td>-0.145420</td>\n",
       "      <td>1.400083</td>\n",
       "      <td>0.355824</td>\n",
       "      <td>-0.455725</td>\n",
       "      <td>0.461654</td>\n",
       "      <td>0.535301</td>\n",
       "      <td>-1.385688</td>\n",
       "      <td>0.001515</td>\n",
       "    </tr>\n",
       "    <tr>\n",
       "      <th>3</th>\n",
       "      <td>2.185578</td>\n",
       "      <td>-0.900545</td>\n",
       "      <td>-0.594447</td>\n",
       "      <td>1.064210</td>\n",
       "      <td>-1.955223</td>\n",
       "      <td>-0.443737</td>\n",
       "      <td>0.206834</td>\n",
       "      <td>-1.676467</td>\n",
       "      <td>-0.017334</td>\n",
       "      <td>-0.181200</td>\n",
       "      <td>-0.790784</td>\n",
       "      <td>0.991390</td>\n",
       "      <td>0.535258</td>\n",
       "      <td>0.325683</td>\n",
       "      <td>-0.131736</td>\n",
       "    </tr>\n",
       "    <tr>\n",
       "      <th>4</th>\n",
       "      <td>0.597800</td>\n",
       "      <td>1.764918</td>\n",
       "      <td>0.213437</td>\n",
       "      <td>-0.216656</td>\n",
       "      <td>0.023257</td>\n",
       "      <td>-0.470709</td>\n",
       "      <td>0.101038</td>\n",
       "      <td>0.137651</td>\n",
       "      <td>1.163634</td>\n",
       "      <td>0.600789</td>\n",
       "      <td>0.433685</td>\n",
       "      <td>0.285281</td>\n",
       "      <td>0.184430</td>\n",
       "      <td>0.918994</td>\n",
       "      <td>-0.879030</td>\n",
       "    </tr>\n",
       "    <tr>\n",
       "      <th>...</th>\n",
       "      <td>...</td>\n",
       "      <td>...</td>\n",
       "      <td>...</td>\n",
       "      <td>...</td>\n",
       "      <td>...</td>\n",
       "      <td>...</td>\n",
       "      <td>...</td>\n",
       "      <td>...</td>\n",
       "      <td>...</td>\n",
       "      <td>...</td>\n",
       "      <td>...</td>\n",
       "      <td>...</td>\n",
       "      <td>...</td>\n",
       "      <td>...</td>\n",
       "      <td>...</td>\n",
       "    </tr>\n",
       "    <tr>\n",
       "      <th>4995</th>\n",
       "      <td>-0.608774</td>\n",
       "      <td>-0.372134</td>\n",
       "      <td>1.498460</td>\n",
       "      <td>-0.617303</td>\n",
       "      <td>0.279070</td>\n",
       "      <td>-0.389081</td>\n",
       "      <td>-0.874020</td>\n",
       "      <td>-0.650686</td>\n",
       "      <td>-0.109238</td>\n",
       "      <td>-0.789400</td>\n",
       "      <td>-0.491450</td>\n",
       "      <td>-0.226107</td>\n",
       "      <td>-0.014305</td>\n",
       "      <td>0.513186</td>\n",
       "      <td>0.669676</td>\n",
       "    </tr>\n",
       "    <tr>\n",
       "      <th>4996</th>\n",
       "      <td>2.587678</td>\n",
       "      <td>1.907301</td>\n",
       "      <td>0.058170</td>\n",
       "      <td>-0.266422</td>\n",
       "      <td>0.199267</td>\n",
       "      <td>-0.324975</td>\n",
       "      <td>-1.146819</td>\n",
       "      <td>-0.987303</td>\n",
       "      <td>0.685567</td>\n",
       "      <td>-1.366030</td>\n",
       "      <td>-0.188507</td>\n",
       "      <td>1.202390</td>\n",
       "      <td>0.710789</td>\n",
       "      <td>0.105629</td>\n",
       "      <td>0.262804</td>\n",
       "    </tr>\n",
       "    <tr>\n",
       "      <th>4997</th>\n",
       "      <td>0.588352</td>\n",
       "      <td>0.738236</td>\n",
       "      <td>0.547341</td>\n",
       "      <td>-0.933734</td>\n",
       "      <td>1.148492</td>\n",
       "      <td>1.366969</td>\n",
       "      <td>-1.144837</td>\n",
       "      <td>0.931323</td>\n",
       "      <td>-0.646725</td>\n",
       "      <td>-1.462998</td>\n",
       "      <td>-0.083192</td>\n",
       "      <td>0.293434</td>\n",
       "      <td>0.215622</td>\n",
       "      <td>-0.462751</td>\n",
       "      <td>-0.433731</td>\n",
       "    </tr>\n",
       "    <tr>\n",
       "      <th>4998</th>\n",
       "      <td>1.178642</td>\n",
       "      <td>-0.568828</td>\n",
       "      <td>0.772608</td>\n",
       "      <td>1.339167</td>\n",
       "      <td>0.734011</td>\n",
       "      <td>0.751652</td>\n",
       "      <td>0.171236</td>\n",
       "      <td>0.727326</td>\n",
       "      <td>0.230868</td>\n",
       "      <td>1.236706</td>\n",
       "      <td>0.506936</td>\n",
       "      <td>0.575676</td>\n",
       "      <td>0.399202</td>\n",
       "      <td>-1.037652</td>\n",
       "      <td>0.148834</td>\n",
       "    </tr>\n",
       "    <tr>\n",
       "      <th>4999</th>\n",
       "      <td>0.790840</td>\n",
       "      <td>0.394497</td>\n",
       "      <td>-1.068543</td>\n",
       "      <td>0.456288</td>\n",
       "      <td>1.442915</td>\n",
       "      <td>0.897795</td>\n",
       "      <td>-0.815260</td>\n",
       "      <td>-0.979447</td>\n",
       "      <td>-0.292899</td>\n",
       "      <td>-0.510614</td>\n",
       "      <td>0.940589</td>\n",
       "      <td>0.326691</td>\n",
       "      <td>0.107376</td>\n",
       "      <td>0.205138</td>\n",
       "      <td>-0.920202</td>\n",
       "    </tr>\n",
       "  </tbody>\n",
       "</table>\n",
       "<p>5000 rows × 15 columns</p>\n",
       "</div>"
      ],
      "text/plain": [
       "            0         1         2         3         4         5         6   \\\n",
       "0     0.368759  0.831979  2.957944  0.065827 -1.199389 -1.003421 -0.536490   \n",
       "1     0.358835  0.221276  1.125992  1.336419 -1.259625  0.961583 -0.235549   \n",
       "2     0.724964  1.698357  3.340587  0.678704  2.159543  0.172991  0.365218   \n",
       "3     2.185578 -0.900545 -0.594447  1.064210 -1.955223 -0.443737  0.206834   \n",
       "4     0.597800  1.764918  0.213437 -0.216656  0.023257 -0.470709  0.101038   \n",
       "...        ...       ...       ...       ...       ...       ...       ...   \n",
       "4995 -0.608774 -0.372134  1.498460 -0.617303  0.279070 -0.389081 -0.874020   \n",
       "4996  2.587678  1.907301  0.058170 -0.266422  0.199267 -0.324975 -1.146819   \n",
       "4997  0.588352  0.738236  0.547341 -0.933734  1.148492  1.366969 -1.144837   \n",
       "4998  1.178642 -0.568828  0.772608  1.339167  0.734011  0.751652  0.171236   \n",
       "4999  0.790840  0.394497 -1.068543  0.456288  1.442915  0.897795 -0.815260   \n",
       "\n",
       "            7         8         9         10        11        12        13  \\\n",
       "0    -0.372502  0.271788  0.975441 -1.028055  0.282077  0.399573 -0.094335   \n",
       "1     0.608741  0.599941  0.409732  0.454621  0.208703  0.211615  0.205647   \n",
       "2    -0.145420  1.400083  0.355824 -0.455725  0.461654  0.535301 -1.385688   \n",
       "3    -1.676467 -0.017334 -0.181200 -0.790784  0.991390  0.535258  0.325683   \n",
       "4     0.137651  1.163634  0.600789  0.433685  0.285281  0.184430  0.918994   \n",
       "...        ...       ...       ...       ...       ...       ...       ...   \n",
       "4995 -0.650686 -0.109238 -0.789400 -0.491450 -0.226107 -0.014305  0.513186   \n",
       "4996 -0.987303  0.685567 -1.366030 -0.188507  1.202390  0.710789  0.105629   \n",
       "4997  0.931323 -0.646725 -1.462998 -0.083192  0.293434  0.215622 -0.462751   \n",
       "4998  0.727326  0.230868  1.236706  0.506936  0.575676  0.399202 -1.037652   \n",
       "4999 -0.979447 -0.292899 -0.510614  0.940589  0.326691  0.107376  0.205138   \n",
       "\n",
       "            14  \n",
       "0     2.140065  \n",
       "1    -0.965389  \n",
       "2     0.001515  \n",
       "3    -0.131736  \n",
       "4    -0.879030  \n",
       "...        ...  \n",
       "4995  0.669676  \n",
       "4996  0.262804  \n",
       "4997 -0.433731  \n",
       "4998  0.148834  \n",
       "4999 -0.920202  \n",
       "\n",
       "[5000 rows x 15 columns]"
      ]
     },
     "execution_count": 16,
     "metadata": {},
     "output_type": "execute_result"
    }
   ],
   "source": [
    "X_train=pd.DataFrame(data=X)\n",
    "X_train"
   ]
  },
  {
   "cell_type": "code",
   "execution_count": 17,
   "metadata": {},
   "outputs": [],
   "source": [
    "#use this if you wantto add the pca feature\n",
    "from sklearn.decomposition import PCA\n",
    "pca = PCA(n_components=1, random_state=123).fit_transform(X_train)\n",
    "pca = pd.DataFrame(pca,columns=['pca'])\n",
    "#pca\n",
    "#X_train= pd.concat([X_train,pca],axis=1)"
   ]
  },
  {
   "cell_type": "code",
   "execution_count": 18,
   "metadata": {},
   "outputs": [],
   "source": [
    "#Isolation forest "
   ]
  },
  {
   "cell_type": "code",
   "execution_count": 19,
   "metadata": {},
   "outputs": [],
   "source": [
    "from sklearn.ensemble import IsolationForest\n",
    "rng = np.random.RandomState(42)\n",
    "ISFOR_clus = IsolationForest(n_estimators=1000,max_samples=1000,bootstrap=True,max_features=5, random_state=rng).fit(X_train)\n",
    "ISFOR_clus_preds=pd.DataFrame(ISFOR_clus.predict(X_train))\n",
    "ISFOR_clus_preds=ISFOR_clus_preds.replace(1, 0).replace(-1,1)"
   ]
  },
  {
   "cell_type": "code",
   "execution_count": 20,
   "metadata": {},
   "outputs": [],
   "source": [
    "#Spectral clustering"
   ]
  },
  {
   "cell_type": "code",
   "execution_count": 21,
   "metadata": {},
   "outputs": [],
   "source": [
    "from sklearn.cluster import SpectralClustering\n",
    "rng = np.random.RandomState(42)\n",
    "SP_clus = SpectralClustering(n_clusters=2, n_init=1000, random_state=rng)\n",
    "SP_clus_preds=pd.DataFrame(SP_clus.fit_predict(X_train))"
   ]
  },
  {
   "cell_type": "code",
   "execution_count": 22,
   "metadata": {},
   "outputs": [],
   "source": [
    "#One class Svm"
   ]
  },
  {
   "cell_type": "code",
   "execution_count": 23,
   "metadata": {},
   "outputs": [],
   "source": [
    "rng = np.random.RandomState(42)\n",
    "from sklearn.svm import OneClassSVM\n",
    "SVM_clus = OneClassSVM(gamma='auto').fit(X_train)\n",
    "#SVM_clus.predict(X_train)\n",
    "\n",
    "#SVM_clus.score_samples(X_train)\n",
    "SVM_clus_preds=pd.DataFrame(SVM_clus.fit_predict(X_train))\n",
    "SVM_clus_preds=SVM_clus_preds.replace(1, 0).replace(-1,1)"
   ]
  },
  {
   "cell_type": "code",
   "execution_count": 24,
   "metadata": {},
   "outputs": [],
   "source": [
    "#KMeans"
   ]
  },
  {
   "cell_type": "code",
   "execution_count": 25,
   "metadata": {},
   "outputs": [
    {
     "data": {
      "text/html": [
       "<div>\n",
       "<style scoped>\n",
       "    .dataframe tbody tr th:only-of-type {\n",
       "        vertical-align: middle;\n",
       "    }\n",
       "\n",
       "    .dataframe tbody tr th {\n",
       "        vertical-align: top;\n",
       "    }\n",
       "\n",
       "    .dataframe thead th {\n",
       "        text-align: right;\n",
       "    }\n",
       "</style>\n",
       "<table border=\"1\" class=\"dataframe\">\n",
       "  <thead>\n",
       "    <tr style=\"text-align: right;\">\n",
       "      <th></th>\n",
       "      <th>0</th>\n",
       "    </tr>\n",
       "  </thead>\n",
       "  <tbody>\n",
       "    <tr>\n",
       "      <th>0</th>\n",
       "      <td>1</td>\n",
       "    </tr>\n",
       "    <tr>\n",
       "      <th>1</th>\n",
       "      <td>1</td>\n",
       "    </tr>\n",
       "    <tr>\n",
       "      <th>2</th>\n",
       "      <td>1</td>\n",
       "    </tr>\n",
       "    <tr>\n",
       "      <th>3</th>\n",
       "      <td>0</td>\n",
       "    </tr>\n",
       "    <tr>\n",
       "      <th>4</th>\n",
       "      <td>0</td>\n",
       "    </tr>\n",
       "    <tr>\n",
       "      <th>...</th>\n",
       "      <td>...</td>\n",
       "    </tr>\n",
       "    <tr>\n",
       "      <th>4995</th>\n",
       "      <td>1</td>\n",
       "    </tr>\n",
       "    <tr>\n",
       "      <th>4996</th>\n",
       "      <td>0</td>\n",
       "    </tr>\n",
       "    <tr>\n",
       "      <th>4997</th>\n",
       "      <td>1</td>\n",
       "    </tr>\n",
       "    <tr>\n",
       "      <th>4998</th>\n",
       "      <td>0</td>\n",
       "    </tr>\n",
       "    <tr>\n",
       "      <th>4999</th>\n",
       "      <td>0</td>\n",
       "    </tr>\n",
       "  </tbody>\n",
       "</table>\n",
       "<p>5000 rows × 1 columns</p>\n",
       "</div>"
      ],
      "text/plain": [
       "      0\n",
       "0     1\n",
       "1     1\n",
       "2     1\n",
       "3     0\n",
       "4     0\n",
       "...  ..\n",
       "4995  1\n",
       "4996  0\n",
       "4997  1\n",
       "4998  0\n",
       "4999  0\n",
       "\n",
       "[5000 rows x 1 columns]"
      ]
     },
     "execution_count": 25,
     "metadata": {},
     "output_type": "execute_result"
    }
   ],
   "source": [
    "from sklearn.cluster import KMeans\n",
    "KMEANS_clus = KMeans(n_clusters=2, n_init=1000, max_iter=1000,random_state=rng).fit(X_train)\n",
    "KMEANS_clus.labels_\n",
    "KMEANS_clus_preds=pd.DataFrame(KMEANS_clus.fit_predict(X_train))\n",
    "KMEANS_clus_preds"
   ]
  },
  {
   "cell_type": "code",
   "execution_count": 26,
   "metadata": {},
   "outputs": [],
   "source": [
    "#LocalOutlierFactor"
   ]
  },
  {
   "cell_type": "code",
   "execution_count": 27,
   "metadata": {},
   "outputs": [],
   "source": [
    "from sklearn.neighbors import LocalOutlierFactor\n",
    "LOCOUT_clus = LocalOutlierFactor(n_neighbors=10).fit(X_train)\n",
    "LOCOUT_clus_preds=pd.DataFrame(LOCOUT_clus.fit_predict(X_train))\n",
    "LOCOUT_clus_preds=LOCOUT_clus_preds.replace(1, 0).replace(-1,1)\n",
    "#LOCOUT_clus_preds.value_counts()"
   ]
  },
  {
   "cell_type": "code",
   "execution_count": 28,
   "metadata": {},
   "outputs": [],
   "source": [
    "#DBScan"
   ]
  },
  {
   "cell_type": "code",
   "execution_count": 29,
   "metadata": {},
   "outputs": [],
   "source": [
    "from sklearn.cluster import DBSCAN\n",
    "DBSC_clus = DBSCAN(eps=3, min_samples=10).fit(X_train)\n",
    "DBSC_clus_preds=pd.DataFrame(DBSC_clus.fit_predict(X_train))\n",
    "DBSC_clus_preds=DBSC_clus_preds.replace(1, 0).replace(-1,1)"
   ]
  },
  {
   "cell_type": "code",
   "execution_count": 30,
   "metadata": {},
   "outputs": [
    {
     "data": {
      "text/plain": [
       "0    4765\n",
       "1     235\n",
       "dtype: int64"
      ]
     },
     "execution_count": 30,
     "metadata": {},
     "output_type": "execute_result"
    }
   ],
   "source": [
    "DBSC_clus_preds.value_counts()"
   ]
  },
  {
   "cell_type": "code",
   "execution_count": 31,
   "metadata": {},
   "outputs": [],
   "source": [
    "#clus_preds"
   ]
  },
  {
   "cell_type": "code",
   "execution_count": 32,
   "metadata": {},
   "outputs": [
    {
     "data": {
      "text/html": [
       "<div>\n",
       "<style scoped>\n",
       "    .dataframe tbody tr th:only-of-type {\n",
       "        vertical-align: middle;\n",
       "    }\n",
       "\n",
       "    .dataframe tbody tr th {\n",
       "        vertical-align: top;\n",
       "    }\n",
       "\n",
       "    .dataframe thead th {\n",
       "        text-align: right;\n",
       "    }\n",
       "</style>\n",
       "<table border=\"1\" class=\"dataframe\">\n",
       "  <thead>\n",
       "    <tr style=\"text-align: right;\">\n",
       "      <th></th>\n",
       "      <th>clf_class</th>\n",
       "      <th>clf_score</th>\n",
       "      <th>ISFOR</th>\n",
       "      <th>SP</th>\n",
       "      <th>SVM</th>\n",
       "      <th>KMEANS</th>\n",
       "      <th>LOCOUT</th>\n",
       "      <th>DBSC</th>\n",
       "    </tr>\n",
       "  </thead>\n",
       "  <tbody>\n",
       "    <tr>\n",
       "      <th>0</th>\n",
       "      <td>0</td>\n",
       "      <td>0.770446</td>\n",
       "      <td>0</td>\n",
       "      <td>0</td>\n",
       "      <td>1</td>\n",
       "      <td>1</td>\n",
       "      <td>0</td>\n",
       "      <td>0</td>\n",
       "    </tr>\n",
       "    <tr>\n",
       "      <th>1</th>\n",
       "      <td>0</td>\n",
       "      <td>0.730601</td>\n",
       "      <td>0</td>\n",
       "      <td>0</td>\n",
       "      <td>0</td>\n",
       "      <td>1</td>\n",
       "      <td>0</td>\n",
       "      <td>0</td>\n",
       "    </tr>\n",
       "    <tr>\n",
       "      <th>2</th>\n",
       "      <td>0</td>\n",
       "      <td>0.784039</td>\n",
       "      <td>0</td>\n",
       "      <td>0</td>\n",
       "      <td>1</td>\n",
       "      <td>1</td>\n",
       "      <td>0</td>\n",
       "      <td>0</td>\n",
       "    </tr>\n",
       "    <tr>\n",
       "      <th>3</th>\n",
       "      <td>0</td>\n",
       "      <td>0.569196</td>\n",
       "      <td>0</td>\n",
       "      <td>0</td>\n",
       "      <td>1</td>\n",
       "      <td>0</td>\n",
       "      <td>0</td>\n",
       "      <td>0</td>\n",
       "    </tr>\n",
       "    <tr>\n",
       "      <th>4</th>\n",
       "      <td>0</td>\n",
       "      <td>0.742082</td>\n",
       "      <td>0</td>\n",
       "      <td>0</td>\n",
       "      <td>0</td>\n",
       "      <td>0</td>\n",
       "      <td>0</td>\n",
       "      <td>0</td>\n",
       "    </tr>\n",
       "    <tr>\n",
       "      <th>...</th>\n",
       "      <td>...</td>\n",
       "      <td>...</td>\n",
       "      <td>...</td>\n",
       "      <td>...</td>\n",
       "      <td>...</td>\n",
       "      <td>...</td>\n",
       "      <td>...</td>\n",
       "      <td>...</td>\n",
       "    </tr>\n",
       "    <tr>\n",
       "      <th>4995</th>\n",
       "      <td>0</td>\n",
       "      <td>0.644111</td>\n",
       "      <td>0</td>\n",
       "      <td>0</td>\n",
       "      <td>0</td>\n",
       "      <td>1</td>\n",
       "      <td>0</td>\n",
       "      <td>0</td>\n",
       "    </tr>\n",
       "    <tr>\n",
       "      <th>4996</th>\n",
       "      <td>0</td>\n",
       "      <td>0.793898</td>\n",
       "      <td>0</td>\n",
       "      <td>0</td>\n",
       "      <td>0</td>\n",
       "      <td>0</td>\n",
       "      <td>0</td>\n",
       "      <td>0</td>\n",
       "    </tr>\n",
       "    <tr>\n",
       "      <th>4997</th>\n",
       "      <td>0</td>\n",
       "      <td>0.755176</td>\n",
       "      <td>0</td>\n",
       "      <td>0</td>\n",
       "      <td>0</td>\n",
       "      <td>1</td>\n",
       "      <td>0</td>\n",
       "      <td>0</td>\n",
       "    </tr>\n",
       "    <tr>\n",
       "      <th>4998</th>\n",
       "      <td>0</td>\n",
       "      <td>0.759023</td>\n",
       "      <td>0</td>\n",
       "      <td>0</td>\n",
       "      <td>0</td>\n",
       "      <td>0</td>\n",
       "      <td>0</td>\n",
       "      <td>0</td>\n",
       "    </tr>\n",
       "    <tr>\n",
       "      <th>4999</th>\n",
       "      <td>1</td>\n",
       "      <td>0.491420</td>\n",
       "      <td>0</td>\n",
       "      <td>0</td>\n",
       "      <td>0</td>\n",
       "      <td>0</td>\n",
       "      <td>0</td>\n",
       "      <td>0</td>\n",
       "    </tr>\n",
       "  </tbody>\n",
       "</table>\n",
       "<p>5000 rows × 8 columns</p>\n",
       "</div>"
      ],
      "text/plain": [
       "      clf_class  clf_score  ISFOR  SP  SVM  KMEANS  LOCOUT  DBSC\n",
       "0             0   0.770446      0   0    1       1       0     0\n",
       "1             0   0.730601      0   0    0       1       0     0\n",
       "2             0   0.784039      0   0    1       1       0     0\n",
       "3             0   0.569196      0   0    1       0       0     0\n",
       "4             0   0.742082      0   0    0       0       0     0\n",
       "...         ...        ...    ...  ..  ...     ...     ...   ...\n",
       "4995          0   0.644111      0   0    0       1       0     0\n",
       "4996          0   0.793898      0   0    0       0       0     0\n",
       "4997          0   0.755176      0   0    0       1       0     0\n",
       "4998          0   0.759023      0   0    0       0       0     0\n",
       "4999          1   0.491420      0   0    0       0       0     0\n",
       "\n",
       "[5000 rows x 8 columns]"
      ]
     },
     "execution_count": 32,
     "metadata": {},
     "output_type": "execute_result"
    }
   ],
   "source": [
    "finals_preds= pd.concat([clf_preds,clf_pred_probs,ISFOR_clus_preds,SP_clus_preds,SVM_clus_preds,KMEANS_clus_preds,LOCOUT_clus_preds, DBSC_clus_preds],axis=1)\n",
    "finals_preds.columns=['clf_class','clf_score', 'ISFOR','SP','SVM','KMEANS','LOCOUT','DBSC']\n",
    "finals_preds"
   ]
  },
  {
   "cell_type": "code",
   "execution_count": 33,
   "metadata": {},
   "outputs": [
    {
     "data": {
      "text/html": [
       "<div>\n",
       "<style scoped>\n",
       "    .dataframe tbody tr th:only-of-type {\n",
       "        vertical-align: middle;\n",
       "    }\n",
       "\n",
       "    .dataframe tbody tr th {\n",
       "        vertical-align: top;\n",
       "    }\n",
       "\n",
       "    .dataframe thead th {\n",
       "        text-align: right;\n",
       "    }\n",
       "</style>\n",
       "<table border=\"1\" class=\"dataframe\">\n",
       "  <thead>\n",
       "    <tr style=\"text-align: right;\">\n",
       "      <th></th>\n",
       "      <th>clf_class</th>\n",
       "      <th>clf_score</th>\n",
       "      <th>ISFOR</th>\n",
       "      <th>SP</th>\n",
       "      <th>SVM</th>\n",
       "      <th>KMEANS</th>\n",
       "      <th>LOCOUT</th>\n",
       "      <th>DBSC</th>\n",
       "      <th>ENS</th>\n",
       "    </tr>\n",
       "  </thead>\n",
       "  <tbody>\n",
       "    <tr>\n",
       "      <th>0</th>\n",
       "      <td>0</td>\n",
       "      <td>0.770446</td>\n",
       "      <td>0</td>\n",
       "      <td>0</td>\n",
       "      <td>1</td>\n",
       "      <td>1</td>\n",
       "      <td>0</td>\n",
       "      <td>0</td>\n",
       "      <td>0</td>\n",
       "    </tr>\n",
       "    <tr>\n",
       "      <th>1</th>\n",
       "      <td>0</td>\n",
       "      <td>0.730601</td>\n",
       "      <td>0</td>\n",
       "      <td>0</td>\n",
       "      <td>0</td>\n",
       "      <td>1</td>\n",
       "      <td>0</td>\n",
       "      <td>0</td>\n",
       "      <td>0</td>\n",
       "    </tr>\n",
       "    <tr>\n",
       "      <th>2</th>\n",
       "      <td>0</td>\n",
       "      <td>0.784039</td>\n",
       "      <td>0</td>\n",
       "      <td>0</td>\n",
       "      <td>1</td>\n",
       "      <td>1</td>\n",
       "      <td>0</td>\n",
       "      <td>0</td>\n",
       "      <td>0</td>\n",
       "    </tr>\n",
       "    <tr>\n",
       "      <th>3</th>\n",
       "      <td>0</td>\n",
       "      <td>0.569196</td>\n",
       "      <td>0</td>\n",
       "      <td>0</td>\n",
       "      <td>1</td>\n",
       "      <td>0</td>\n",
       "      <td>0</td>\n",
       "      <td>0</td>\n",
       "      <td>0</td>\n",
       "    </tr>\n",
       "    <tr>\n",
       "      <th>4</th>\n",
       "      <td>0</td>\n",
       "      <td>0.742082</td>\n",
       "      <td>0</td>\n",
       "      <td>0</td>\n",
       "      <td>0</td>\n",
       "      <td>0</td>\n",
       "      <td>0</td>\n",
       "      <td>0</td>\n",
       "      <td>0</td>\n",
       "    </tr>\n",
       "    <tr>\n",
       "      <th>...</th>\n",
       "      <td>...</td>\n",
       "      <td>...</td>\n",
       "      <td>...</td>\n",
       "      <td>...</td>\n",
       "      <td>...</td>\n",
       "      <td>...</td>\n",
       "      <td>...</td>\n",
       "      <td>...</td>\n",
       "      <td>...</td>\n",
       "    </tr>\n",
       "    <tr>\n",
       "      <th>4995</th>\n",
       "      <td>0</td>\n",
       "      <td>0.644111</td>\n",
       "      <td>0</td>\n",
       "      <td>0</td>\n",
       "      <td>0</td>\n",
       "      <td>1</td>\n",
       "      <td>0</td>\n",
       "      <td>0</td>\n",
       "      <td>0</td>\n",
       "    </tr>\n",
       "    <tr>\n",
       "      <th>4996</th>\n",
       "      <td>0</td>\n",
       "      <td>0.793898</td>\n",
       "      <td>0</td>\n",
       "      <td>0</td>\n",
       "      <td>0</td>\n",
       "      <td>0</td>\n",
       "      <td>0</td>\n",
       "      <td>0</td>\n",
       "      <td>0</td>\n",
       "    </tr>\n",
       "    <tr>\n",
       "      <th>4997</th>\n",
       "      <td>0</td>\n",
       "      <td>0.755176</td>\n",
       "      <td>0</td>\n",
       "      <td>0</td>\n",
       "      <td>0</td>\n",
       "      <td>1</td>\n",
       "      <td>0</td>\n",
       "      <td>0</td>\n",
       "      <td>0</td>\n",
       "    </tr>\n",
       "    <tr>\n",
       "      <th>4998</th>\n",
       "      <td>0</td>\n",
       "      <td>0.759023</td>\n",
       "      <td>0</td>\n",
       "      <td>0</td>\n",
       "      <td>0</td>\n",
       "      <td>0</td>\n",
       "      <td>0</td>\n",
       "      <td>0</td>\n",
       "      <td>0</td>\n",
       "    </tr>\n",
       "    <tr>\n",
       "      <th>4999</th>\n",
       "      <td>1</td>\n",
       "      <td>0.491420</td>\n",
       "      <td>0</td>\n",
       "      <td>0</td>\n",
       "      <td>0</td>\n",
       "      <td>0</td>\n",
       "      <td>0</td>\n",
       "      <td>0</td>\n",
       "      <td>0</td>\n",
       "    </tr>\n",
       "  </tbody>\n",
       "</table>\n",
       "<p>5000 rows × 9 columns</p>\n",
       "</div>"
      ],
      "text/plain": [
       "      clf_class  clf_score  ISFOR  SP  SVM  KMEANS  LOCOUT  DBSC  ENS\n",
       "0             0   0.770446      0   0    1       1       0     0    0\n",
       "1             0   0.730601      0   0    0       1       0     0    0\n",
       "2             0   0.784039      0   0    1       1       0     0    0\n",
       "3             0   0.569196      0   0    1       0       0     0    0\n",
       "4             0   0.742082      0   0    0       0       0     0    0\n",
       "...         ...        ...    ...  ..  ...     ...     ...   ...  ...\n",
       "4995          0   0.644111      0   0    0       1       0     0    0\n",
       "4996          0   0.793898      0   0    0       0       0     0    0\n",
       "4997          0   0.755176      0   0    0       1       0     0    0\n",
       "4998          0   0.759023      0   0    0       0       0     0    0\n",
       "4999          1   0.491420      0   0    0       0       0     0    0\n",
       "\n",
       "[5000 rows x 9 columns]"
      ]
     },
     "execution_count": 33,
     "metadata": {},
     "output_type": "execute_result"
    }
   ],
   "source": [
    "finals_preds['ENS']= finals_preds[['ISFOR','SP','SVM','KMEANS','LOCOUT']].mode(axis=1,numeric_only=True)\n",
    "finals_preds"
   ]
  },
  {
   "cell_type": "code",
   "execution_count": 34,
   "metadata": {},
   "outputs": [
    {
     "data": {
      "text/plain": [
       "0       0\n",
       "1       0\n",
       "2       0\n",
       "3       0\n",
       "4       0\n",
       "       ..\n",
       "4995    0\n",
       "4996    0\n",
       "4997    0\n",
       "4998    0\n",
       "4999    1\n",
       "Name: clf_class, Length: 5000, dtype: int32"
      ]
     },
     "execution_count": 34,
     "metadata": {},
     "output_type": "execute_result"
    }
   ],
   "source": [
    "finals_preds['clf_class']"
   ]
  },
  {
   "cell_type": "code",
   "execution_count": 35,
   "metadata": {},
   "outputs": [
    {
     "data": {
      "text/plain": [
       "0       0\n",
       "1       0\n",
       "2       0\n",
       "3       0\n",
       "4       0\n",
       "       ..\n",
       "4995    0\n",
       "4996    0\n",
       "4997    0\n",
       "4998    0\n",
       "4999    0\n",
       "Name: ENS, Length: 5000, dtype: int64"
      ]
     },
     "execution_count": 35,
     "metadata": {},
     "output_type": "execute_result"
    }
   ],
   "source": [
    "finals_preds['ENS']"
   ]
  },
  {
   "cell_type": "code",
   "execution_count": 36,
   "metadata": {},
   "outputs": [
    {
     "data": {
      "text/plain": [
       "array([[4539,   26],\n",
       "       [ 357,   78]], dtype=int64)"
      ]
     },
     "execution_count": 36,
     "metadata": {},
     "output_type": "execute_result"
    }
   ],
   "source": [
    "confusion_matrix(finals_preds['clf_class'],finals_preds['ENS'])"
   ]
  },
  {
   "cell_type": "code",
   "execution_count": 37,
   "metadata": {},
   "outputs": [],
   "source": [
    "def cluster_scores(cls):\n",
    "    ACC,ROC=[round(accuracy_score(finals_preds['clf_class'],finals_preds[cls]),2) , \n",
    "       round(roc_auc_score(finals_preds['clf_class'],finals_preds[cls]),2)]\n",
    "    return print(cls, 'metrics are:', 'Accuracy=',ACC, 'and', 'ROC=',ROC)"
   ]
  },
  {
   "cell_type": "code",
   "execution_count": 38,
   "metadata": {},
   "outputs": [
    {
     "name": "stdout",
     "output_type": "stream",
     "text": [
      "ENS metrics are: Accuracy= 0.92 and ROC= 0.59\n"
     ]
    }
   ],
   "source": [
    "cluster_scores('ENS')"
   ]
  },
  {
   "cell_type": "code",
   "execution_count": 39,
   "metadata": {},
   "outputs": [
    {
     "name": "stdout",
     "output_type": "stream",
     "text": [
      "ISFOR metrics are: Accuracy= 0.91 and ROC= 0.58\n"
     ]
    }
   ],
   "source": [
    "cluster_scores('ISFOR')"
   ]
  },
  {
   "cell_type": "code",
   "execution_count": 40,
   "metadata": {},
   "outputs": [
    {
     "name": "stdout",
     "output_type": "stream",
     "text": [
      "SP metrics are: Accuracy= 0.91 and ROC= 0.5\n"
     ]
    }
   ],
   "source": [
    "cluster_scores('SP')"
   ]
  },
  {
   "cell_type": "code",
   "execution_count": 41,
   "metadata": {},
   "outputs": [
    {
     "name": "stdout",
     "output_type": "stream",
     "text": [
      "LOCOUT metrics are: Accuracy= 0.91 and ROC= 0.5\n"
     ]
    }
   ],
   "source": [
    "cluster_scores('LOCOUT')"
   ]
  },
  {
   "cell_type": "code",
   "execution_count": 42,
   "metadata": {},
   "outputs": [
    {
     "name": "stdout",
     "output_type": "stream",
     "text": [
      "DBSC metrics are: Accuracy= 0.89 and ROC= 0.56\n"
     ]
    }
   ],
   "source": [
    "cluster_scores('DBSC')"
   ]
  },
  {
   "cell_type": "code",
   "execution_count": 43,
   "metadata": {},
   "outputs": [
    {
     "name": "stdout",
     "output_type": "stream",
     "text": [
      "SVM metrics are: Accuracy= 0.54 and ROC= 0.63\n"
     ]
    }
   ],
   "source": [
    "cluster_scores('SVM')"
   ]
  },
  {
   "cell_type": "code",
   "execution_count": 44,
   "metadata": {},
   "outputs": [
    {
     "name": "stdout",
     "output_type": "stream",
     "text": [
      "KMEANS metrics are: Accuracy= 0.53 and ROC= 0.6\n"
     ]
    }
   ],
   "source": [
    "cluster_scores('KMEANS')"
   ]
  },
  {
   "cell_type": "code",
   "execution_count": 45,
   "metadata": {},
   "outputs": [
    {
     "data": {
      "image/png": "[encoded data removed]",
      "text/plain": [
       "<Figure size 432x288 with 1 Axes>"
      ]
     },
     "metadata": {
      "needs_background": "light"
     },
     "output_type": "display_data"
    }
   ],
   "source": [
    "sn.boxplot(x=\"ENS\",y=\"clf_score\",data=finals_preds);"
   ]
  },
  {
   "cell_type": "code",
   "execution_count": 46,
   "metadata": {},
   "outputs": [],
   "source": [
    "#sn.boxplot(x=\"clf_class\",y=\"clf_score\",data=finals_preds);"
   ]
  },
  {
   "cell_type": "code",
   "execution_count": 47,
   "metadata": {},
   "outputs": [],
   "source": [
    "#finals_preds.describe()"
   ]
  },
  {
   "cell_type": "code",
   "execution_count": 48,
   "metadata": {},
   "outputs": [
    {
     "data": {
      "image/png": "[encoded data removed]",
      "text/plain": [
       "<Figure size 432x288 with 2 Axes>"
      ]
     },
     "metadata": {
      "needs_background": "light"
     },
     "output_type": "display_data"
    }
   ],
   "source": [
    "cm = confusion_matrix(finals_preds['clf_class'],finals_preds['ENS'])\n",
    "disp = ConfusionMatrixDisplay(confusion_matrix=cm)\n",
    "disp.plot()\n",
    "plt.title('Confusion matrix of the clustering');"
   ]
  },
  {
   "cell_type": "code",
   "execution_count": null,
   "metadata": {},
   "outputs": [],
   "source": []
  }
 ],
 "metadata": {
  "kernelspec": {
   "display_name": "Python 3",
   "language": "python",
   "name": "python3"
  },
  "language_info": {
   "codemirror_mode": {
    "name": "ipython",
    "version": 3
   },
   "file_extension": ".py",
   "mimetype": "text/x-python",
   "name": "python",
   "nbconvert_exporter": "python",
   "pygments_lexer": "ipython3",
   "version": "3.8.10"
  }
 },
 "nbformat": 4,
 "nbformat_minor": 2
}
